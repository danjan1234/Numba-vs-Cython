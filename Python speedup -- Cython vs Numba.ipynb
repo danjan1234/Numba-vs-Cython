{
 "cells": [
  {
   "cell_type": "code",
   "execution_count": 1,
   "metadata": {
    "collapsed": true
   },
   "outputs": [],
   "source": [
    "import time\n",
    "import numpy as np\n",
    "import numba \n",
    "import cython\n",
    "%load_ext cython"
   ]
  },
  {
   "cell_type": "markdown",
   "metadata": {},
   "source": [
    "# Cython with numpy"
   ]
  },
  {
   "cell_type": "code",
   "execution_count": 2,
   "metadata": {},
   "outputs": [],
   "source": [
    "%%cython\n",
    "# cython: infer_types=True\n",
    "\n",
    "cimport cython\n",
    "import numpy as np\n",
    "\n",
    "ctypedef fused my_type:\n",
    "    int\n",
    "    double\n",
    "    long\n",
    "\n",
    "@cython.boundscheck(False)  # Deactivate bounds checking\n",
    "@cython.wraparound(False)   # Deactivate negative indexing\n",
    "def naive_convolve(my_type [:,::1] f, my_type [:,::1] g):\n",
    "    # f is an image and is indexed by (v, w)\n",
    "    # g is a filter kernel and is indexed by (s, t),\n",
    "    #   it needs odd dimensions\n",
    "    # h is the output image and is indexed by (x, y),\n",
    "    #   it is not cropped\n",
    "    if g.shape[0] % 2 != 1 or g.shape[1] % 2 != 1:\n",
    "        raise ValueError(\"Only odd dimensions on filter supported\")\n",
    "\n",
    "    # smid and tmid are number of pixels between the center pixel\n",
    "    # and the edge, ie for a 5x5 filter they will be 2.\n",
    "    #\n",
    "    # The output size is calculated by adding smid, tmid to each\n",
    "    # side of the dimensions of the input image.\n",
    "    \n",
    "    vmax = f.shape[0]\n",
    "    wmax = f.shape[1]\n",
    "    smax = g.shape[0]\n",
    "    tmax = g.shape[1]\n",
    "    smid = smax // 2\n",
    "    tmid = tmax // 2\n",
    "    xmax = vmax + 2*smid\n",
    "    ymax = wmax + 2*tmid\n",
    "\n",
    "    if my_type is int:\n",
    "        dtype = np.intc\n",
    "    elif my_type is double:\n",
    "        dtype = np.double\n",
    "    else:\n",
    "        dtype = np.long\n",
    "        \n",
    "    h_np = np.zeros([xmax, ymax], dtype=dtype)\n",
    "    cdef my_type [:,::1] h = h_np\n",
    "    \n",
    "    # Do convolution\n",
    "    cdef my_type value\n",
    "    for x in range(xmax):\n",
    "        for y in range(ymax):\n",
    "            # Calculate pixel value for h at (x,y). Sum one component\n",
    "            # for each pixel (s, t) of the filter g.\n",
    "            s_from = max(smid - x, -smid)\n",
    "            s_to = min((xmax - x) - smid, smid + 1)\n",
    "            t_from = max(tmid - y, -tmid)\n",
    "            t_to = min((ymax - y) - tmid, tmid + 1)\n",
    "            value = 0\n",
    "            for s in range(s_from, s_to):\n",
    "                for t in range(t_from, t_to):\n",
    "                    v = x - smid + s\n",
    "                    w = y - tmid + t\n",
    "                    value += g[smid - s, tmid - t] * f[v, w]\n",
    "            h[x, y] = value\n",
    "    return h_np"
   ]
  },
  {
   "cell_type": "code",
   "execution_count": 124,
   "metadata": {
    "collapsed": true
   },
   "outputs": [],
   "source": [
    "N = 600\n",
    "f = np.arange(N*N, dtype=np.int).reshape((N,N))\n",
    "g = np.arange(81, dtype=np.int).reshape((9, 9))"
   ]
  },
  {
   "cell_type": "code",
   "execution_count": 184,
   "metadata": {},
   "outputs": [
    {
     "name": "stdout",
     "output_type": "stream",
     "text": [
      "18.2 s ± 920 ms per loop (mean ± std. dev. of 7 runs, 1 loop each)\n"
     ]
    }
   ],
   "source": [
    "# Pure Python version\n",
    "%timeit naive_convolve(f, g)"
   ]
  },
  {
   "cell_type": "code",
   "execution_count": 129,
   "metadata": {},
   "outputs": [
    {
     "name": "stdout",
     "output_type": "stream",
     "text": [
      "12.9 s ± 154 ms per loop (mean ± std. dev. of 7 runs, 1 loop each)\n"
     ]
    }
   ],
   "source": [
    "# Cython version with no change in code -- only some slight improvment\n",
    "%timeit naive_convolve(f, g)"
   ]
  },
  {
   "cell_type": "code",
   "execution_count": 132,
   "metadata": {},
   "outputs": [
    {
     "name": "stdout",
     "output_type": "stream",
     "text": [
      "9.65 s ± 494 ms per loop (mean ± std. dev. of 7 runs, 1 loop each)\n"
     ]
    }
   ],
   "source": [
    "# Cython version with some types added -- manual version\n",
    "%timeit naive_convolve(f, g)"
   ]
  },
  {
   "cell_type": "code",
   "execution_count": 158,
   "metadata": {},
   "outputs": [
    {
     "name": "stdout",
     "output_type": "stream",
     "text": [
      "118 ms ± 2.12 ms per loop (mean ± std. dev. of 7 runs, 10 loops each)\n"
     ]
    }
   ],
   "source": [
    "# Cython version with memory views\n",
    "%timeit naive_convolve(f, g)"
   ]
  },
  {
   "cell_type": "code",
   "execution_count": 160,
   "metadata": {},
   "outputs": [
    {
     "name": "stdout",
     "output_type": "stream",
     "text": [
      "24.7 ms ± 1.24 ms per loop (mean ± std. dev. of 7 runs, 10 loops each)\n"
     ]
    }
   ],
   "source": [
    "# Cython version with memory views and deactivated boundary checking & negative indexing\n",
    "%timeit naive_convolve(f, g)"
   ]
  },
  {
   "cell_type": "code",
   "execution_count": 162,
   "metadata": {},
   "outputs": [
    {
     "name": "stdout",
     "output_type": "stream",
     "text": [
      "21.9 ms ± 519 µs per loop (mean ± std. dev. of 7 runs, 10 loops each)\n"
     ]
    }
   ],
   "source": [
    "# Cython version with memory views, deactivated boundary checking & negative indexing, and contiguous memory\n",
    "%timeit naive_convolve(f, g)"
   ]
  },
  {
   "cell_type": "code",
   "execution_count": 168,
   "metadata": {},
   "outputs": [
    {
     "name": "stdout",
     "output_type": "stream",
     "text": [
      "21.8 ms ± 381 µs per loop (mean ± std. dev. of 7 runs, 10 loops each)\n"
     ]
    }
   ],
   "source": [
    "# Cython version with memory views, deactivated boundary checking & negative indexing, contiguous memory, and inferred and fused types\n",
    "%timeit naive_convolve(f, g)"
   ]
  },
  {
   "cell_type": "markdown",
   "metadata": {},
   "source": [
    "# Numba magic"
   ]
  },
  {
   "cell_type": "code",
   "execution_count": 183,
   "metadata": {
    "collapsed": true
   },
   "outputs": [],
   "source": [
    "import numpy as np\n",
    "def naive_convolve(f, g):\n",
    "    # f is an image and is indexed by (v, w)\n",
    "    # g is a filter kernel and is indexed by (s, t),\n",
    "    #   it needs odd dimensions\n",
    "    # h is the output image and is indexed by (x, y),\n",
    "    #   it is not cropped\n",
    "    if g.shape[0] % 2 != 1 or g.shape[1] % 2 != 1:\n",
    "        raise ValueError(\"Only odd dimensions on filter supported\")\n",
    "    # smid and tmid are number of pixels between the center pixel\n",
    "    # and the edge, ie for a 5x5 filter they will be 2.\n",
    "    #\n",
    "    # The output size is calculated by adding smid, tmid to each\n",
    "    # side of the dimensions of the input image.\n",
    "    vmax = f.shape[0]\n",
    "    wmax = f.shape[1]\n",
    "    smax = g.shape[0]\n",
    "    tmax = g.shape[1]\n",
    "    smid = smax // 2\n",
    "    tmid = tmax // 2\n",
    "    xmax = vmax + 2*smid\n",
    "    ymax = wmax + 2*tmid\n",
    "    # Allocate result image.\n",
    "    h = np.zeros([xmax, ymax], dtype=f.dtype)\n",
    "    # Do convolution\n",
    "    for x in range(xmax):\n",
    "        for y in range(ymax):\n",
    "            # Calculate pixel value for h at (x,y). Sum one component\n",
    "            # for each pixel (s, t) of the filter g.\n",
    "            s_from = max(smid - x, -smid)\n",
    "            s_to = min((xmax - x) - smid, smid + 1)\n",
    "            t_from = max(tmid - y, -tmid)\n",
    "            t_to = min((ymax - y) - tmid, tmid + 1)\n",
    "            value = 0\n",
    "            for s in range(s_from, s_to):\n",
    "                for t in range(t_from, t_to):\n",
    "                    v = x - smid + s\n",
    "                    w = y - tmid + t\n",
    "                    value += g[smid - s, tmid - t] * f[v, w]\n",
    "            h[x, y] = value\n",
    "    return h"
   ]
  },
  {
   "cell_type": "code",
   "execution_count": 185,
   "metadata": {
    "collapsed": true
   },
   "outputs": [],
   "source": [
    "pairwise_numba = numba.jit(naive_convolve)"
   ]
  },
  {
   "cell_type": "code",
   "execution_count": 189,
   "metadata": {},
   "outputs": [
    {
     "name": "stdout",
     "output_type": "stream",
     "text": [
      "74.4 ms ± 5.89 ms per loop (mean ± std. dev. of 7 runs, 1 loop each)\n"
     ]
    }
   ],
   "source": [
    "# Numba version\n",
    "%timeit pairwise_numba(f, g)"
   ]
  },
  {
   "cell_type": "markdown",
   "metadata": {},
   "source": [
    "# My test with Cython and Numba"
   ]
  },
  {
   "cell_type": "code",
   "execution_count": 230,
   "metadata": {
    "collapsed": true
   },
   "outputs": [],
   "source": [
    "def getMean(arr):\n",
    "    length = len(arr)\n",
    "    rlt = 0\n",
    "    for x in arr:\n",
    "        rlt += x / length\n",
    "    return rlt"
   ]
  },
  {
   "cell_type": "code",
   "execution_count": 3,
   "metadata": {},
   "outputs": [],
   "source": [
    "%%cython\n",
    "# cython: infer_types=True\n",
    "\n",
    "cimport cython\n",
    "import numpy as np\n",
    "\n",
    "@cython.cdivision(True)\n",
    "@cython.boundscheck(False)  # Deactivate bounds checking\n",
    "@cython.wraparound(False)   # Deactivate negative indexing\n",
    "def getMean_cython(double [::1] arr):\n",
    "    length = arr.shape[0]\n",
    "    cdef double rlt = 0\n",
    "    for i in range(length):\n",
    "        rlt = rlt + arr[i] / length\n",
    "    return rlt"
   ]
  },
  {
   "cell_type": "code",
   "execution_count": 321,
   "metadata": {
    "collapsed": true
   },
   "outputs": [],
   "source": [
    "arr = np.random.rand(5000000)"
   ]
  },
  {
   "cell_type": "code",
   "execution_count": 233,
   "metadata": {},
   "outputs": [
    {
     "name": "stdout",
     "output_type": "stream",
     "text": [
      "2.14 s ± 47.3 ms per loop (mean ± std. dev. of 7 runs, 1 loop each)\n"
     ]
    }
   ],
   "source": [
    "# Pure python\n",
    "%timeit getMean(arr)"
   ]
  },
  {
   "cell_type": "code",
   "execution_count": 324,
   "metadata": {},
   "outputs": [
    {
     "name": "stdout",
     "output_type": "stream",
     "text": [
      "6.64 ms ± 161 µs per loop (mean ± std. dev. of 7 runs, 100 loops each)\n"
     ]
    }
   ],
   "source": [
    "# Numpy\n",
    "%timeit np.mean(arr)"
   ]
  },
  {
   "cell_type": "code",
   "execution_count": 235,
   "metadata": {
    "collapsed": true
   },
   "outputs": [],
   "source": [
    "getMean_numba = numba.jit(getMean)"
   ]
  },
  {
   "cell_type": "code",
   "execution_count": 322,
   "metadata": {},
   "outputs": [
    {
     "name": "stdout",
     "output_type": "stream",
     "text": [
      "5.97 ms ± 48.5 µs per loop (mean ± std. dev. of 7 runs, 100 loops each)\n"
     ]
    }
   ],
   "source": [
    "# Numba\n",
    "%timeit getMean_numba(arr)"
   ]
  },
  {
   "cell_type": "code",
   "execution_count": 323,
   "metadata": {},
   "outputs": [
    {
     "name": "stdout",
     "output_type": "stream",
     "text": [
      "6.18 ms ± 144 µs per loop (mean ± std. dev. of 7 runs, 100 loops each)\n"
     ]
    }
   ],
   "source": [
    "# Cython\n",
    "%timeit getMean_cython(arr)"
   ]
  },
  {
   "cell_type": "markdown",
   "metadata": {},
   "source": [
    "# Draft"
   ]
  },
  {
   "cell_type": "code",
   "execution_count": 3,
   "metadata": {
    "collapsed": true
   },
   "outputs": [],
   "source": [
    "@numba.jit(nopython=True)\n",
    "def sum2d(arr):\n",
    "    M, N = arr.shape\n",
    "    result = 0.0\n",
    "    for i in range(M):\n",
    "        for j in range(N):\n",
    "            result += arr[i,j]\n",
    "    return result"
   ]
  },
  {
   "cell_type": "code",
   "execution_count": 4,
   "metadata": {
    "collapsed": true
   },
   "outputs": [],
   "source": [
    "arr = np.random.rand(50000, 5000)"
   ]
  },
  {
   "cell_type": "code",
   "execution_count": 8,
   "metadata": {},
   "outputs": [
    {
     "name": "stdout",
     "output_type": "stream",
     "text": [
      "Elapsed time: 0.32689476013183594\n"
     ]
    }
   ],
   "source": [
    "startTime = time.time()\n",
    "sum2d(arr)\n",
    "print(\"Elapsed time: {}\".format(time.time() - startTime))"
   ]
  },
  {
   "cell_type": "code",
   "execution_count": 6,
   "metadata": {
    "scrolled": true
   },
   "outputs": [
    {
     "name": "stdout",
     "output_type": "stream",
     "text": [
      "324 ms ± 22.2 ms per loop (mean ± std. dev. of 7 runs, 1 loop each)\n"
     ]
    }
   ],
   "source": [
    "%timeit sum2d(arr)"
   ]
  },
  {
   "cell_type": "code",
   "execution_count": 297,
   "metadata": {
    "collapsed": true
   },
   "outputs": [],
   "source": [
    "arr = np.random.rand(10000, 2)\n",
    "arr = np.ascontiguousarray(arr)"
   ]
  },
  {
   "cell_type": "code",
   "execution_count": 268,
   "metadata": {},
   "outputs": [
    {
     "name": "stdout",
     "output_type": "stream",
     "text": [
      "9.59 µs ± 317 ns per loop (mean ± std. dev. of 7 runs, 100000 loops each)\n"
     ]
    }
   ],
   "source": [
    "%timeit arr[:, 0] + arr[:, 1]"
   ]
  },
  {
   "cell_type": "code",
   "execution_count": 303,
   "metadata": {
    "collapsed": true
   },
   "outputs": [],
   "source": [
    "from numba import vectorize, float64\n",
    "\n",
    "@vectorize([float64(float64, float64)], target='cuda')\n",
    "def f(x, y):\n",
    "    return x + y"
   ]
  },
  {
   "cell_type": "code",
   "execution_count": 313,
   "metadata": {
    "collapsed": true
   },
   "outputs": [],
   "source": [
    "@numba.njit\n",
    "def f_jib(arr):\n",
    "    M, N = arr.shape\n",
    "    rlt = np.zeros(M)\n",
    "    for i in range(M):\n",
    "        rlt[i] = arr[i, 0] + arr[i, 1]\n",
    "    return rlt"
   ]
  },
  {
   "cell_type": "code",
   "execution_count": 304,
   "metadata": {},
   "outputs": [
    {
     "name": "stdout",
     "output_type": "stream",
     "text": [
      "The slowest run took 5.82 times longer than the fastest. This could mean that an intermediate result is being cached.\n",
      "1.91 ms ± 1.45 ms per loop (mean ± std. dev. of 7 runs, 1 loop each)\n"
     ]
    }
   ],
   "source": [
    "%timeit f(np.ascontiguousarray(arr[:, 0]), np.ascontiguousarray(arr[:, 1]))"
   ]
  },
  {
   "cell_type": "code",
   "execution_count": 315,
   "metadata": {},
   "outputs": [
    {
     "name": "stdout",
     "output_type": "stream",
     "text": [
      "10.7 µs ± 51.9 ns per loop (mean ± std. dev. of 7 runs, 100000 loops each)\n"
     ]
    }
   ],
   "source": [
    "%timeit f_jib(arr)"
   ]
  },
  {
   "cell_type": "code",
   "execution_count": 320,
   "metadata": {
    "scrolled": false
   },
   "outputs": [
    {
     "name": "stdout",
     "output_type": "stream",
     "text": [
      "f_jib (array(float64, 2d, C),)\n",
      "--------------------------------------------------------------------------------\n",
      "# File: <ipython-input-313-bf1bf9de8d18>\n",
      "# --- LINE 1 --- \n",
      "# label 0\n",
      "#   del $0.2\n",
      "#   del $0.5\n",
      "#   del $0.3\n",
      "#   del N\n",
      "#   del $0.4\n",
      "#   del $0.6\n",
      "#   del $0.7\n",
      "#   del $0.9\n",
      "\n",
      "@numba.njit\n",
      "\n",
      "# --- LINE 2 --- \n",
      "\n",
      "def f_jib(arr):\n",
      "\n",
      "    # --- LINE 3 --- \n",
      "    #   arr = arg(0, name=arr)  :: array(float64, 2d, C)\n",
      "    #   $0.2 = getattr(value=arr, attr=shape)  :: (int64 x 2)\n",
      "    #   $0.5 = exhaust_iter(value=$0.2, count=2)  :: (int64 x 2)\n",
      "    #   $0.3 = static_getitem(value=$0.5, index=0, index_var=None)  :: int64\n",
      "    #   $0.4 = static_getitem(value=$0.5, index=1, index_var=None)  :: int64\n",
      "    #   M = $0.3  :: int64\n",
      "    #   N = $0.4  :: int64\n",
      "\n",
      "    M, N = arr.shape\n",
      "\n",
      "    # --- LINE 4 --- \n",
      "    #   $0.6 = global(np: <module 'numpy' from 'C:\\\\Users\\\\justin.duan\\\\AppData\\\\Local\\\\Continuum\\\\anaconda3\\\\lib\\\\site-packages\\\\numpy\\\\__init__.py'>)  :: Module(<module 'numpy' from 'C:\\\\Users\\\\justin.duan\\\\AppData\\\\Local\\\\Continuum\\\\anaconda3\\\\lib\\\\site-packages\\\\numpy\\\\__init__.py'>)\n",
      "    #   $0.7 = getattr(value=$0.6, attr=zeros)  :: Function(<built-in function zeros>)\n",
      "    #   $0.9 = call $0.7(M, func=$0.7, args=[Var(M, <ipython-input-313-bf1bf9de8d18> (3))], kws=(), vararg=None)  :: (int64,) -> array(float64, 1d, C)\n",
      "    #   rlt = $0.9  :: array(float64, 1d, C)\n",
      "    #   jump 20\n",
      "    # label 20\n",
      "\n",
      "    rlt = np.zeros(M)\n",
      "\n",
      "    # --- LINE 5 --- \n",
      "    #   jump 22\n",
      "    # label 22\n",
      "    #   $22.1 = global(range: <class 'range'>)  :: Function(<class 'range'>)\n",
      "    #   $22.3 = call $22.1(M, func=$22.1, args=[Var(M, <ipython-input-313-bf1bf9de8d18> (3))], kws=(), vararg=None)  :: (int64,) -> range_state_int64\n",
      "    #   del M\n",
      "    #   del $22.1\n",
      "    #   $22.4 = getiter(value=$22.3)  :: range_iter_int64\n",
      "    #   del $22.3\n",
      "    #   $phi30.1 = $22.4  :: range_iter_int64\n",
      "    #   del $22.4\n",
      "    #   jump 30\n",
      "    # label 30\n",
      "    #   $30.2 = iternext(value=$phi30.1)  :: pair<int64, bool>\n",
      "    #   $30.3 = pair_first(value=$30.2)  :: int64\n",
      "    #   $30.4 = pair_second(value=$30.2)  :: bool\n",
      "    #   del $30.2\n",
      "    #   $phi32.1 = $30.3  :: int64\n",
      "    #   $phi64.1 = $30.3  :: int64\n",
      "    #   del $phi64.1\n",
      "    #   del $30.3\n",
      "    #   $phi64.2 = $phi30.1  :: range_iter_int64\n",
      "    #   del $phi64.2\n",
      "    #   branch $30.4, 32, 64\n",
      "    # label 32\n",
      "    #   del $30.4\n",
      "    #   i = $phi32.1  :: int64\n",
      "    #   del $phi32.1\n",
      "    #   del $const32.4\n",
      "    #   del $32.5\n",
      "    #   del $const32.9\n",
      "    #   del $32.10\n",
      "    #   del $32.6\n",
      "    #   del $32.11\n",
      "    #   del i\n",
      "    #   del $32.12\n",
      "\n",
      "    for i in range(M):\n",
      "\n",
      "        # --- LINE 6 --- \n",
      "        #   $const32.4 = const(int, 0)  :: int64\n",
      "        #   $32.5 = build_tuple(items=[Var(i, <ipython-input-313-bf1bf9de8d18> (5)), Var($const32.4, <ipython-input-313-bf1bf9de8d18> (6))])  :: (int64 x 2)\n",
      "        #   $32.6 = getitem(value=arr, index=$32.5)  :: float64\n",
      "        #   $const32.9 = const(int, 1)  :: int64\n",
      "        #   $32.10 = build_tuple(items=[Var(i, <ipython-input-313-bf1bf9de8d18> (5)), Var($const32.9, <ipython-input-313-bf1bf9de8d18> (6))])  :: (int64 x 2)\n",
      "        #   $32.11 = getitem(value=arr, index=$32.10)  :: float64\n",
      "        #   $32.12 = $32.6 + $32.11  :: float64\n",
      "        #   rlt[i] = $32.12  :: (array(float64, 1d, C), int64, float64) -> none\n",
      "        #   jump 30\n",
      "        # label 64\n",
      "        #   del arr\n",
      "        #   del $phi32.1\n",
      "        #   del $phi30.1\n",
      "        #   del $30.4\n",
      "        #   jump 66\n",
      "        # label 66\n",
      "        #   del rlt\n",
      "\n",
      "        rlt[i] = arr[i, 0] + arr[i, 1]\n",
      "\n",
      "    # --- LINE 7 --- \n",
      "    #   $66.2 = cast(value=rlt)  :: array(float64, 1d, C)\n",
      "    #   return $66.2\n",
      "\n",
      "    return rlt\n",
      "\n",
      "\n",
      "================================================================================\n"
     ]
    }
   ],
   "source": [
    "f_jib.inspect_types()"
   ]
  },
  {
   "cell_type": "code",
   "execution_count": null,
   "metadata": {
    "collapsed": true
   },
   "outputs": [],
   "source": []
  }
 ],
 "metadata": {
  "kernelspec": {
   "display_name": "Python 3",
   "language": "python",
   "name": "python3"
  },
  "language_info": {
   "codemirror_mode": {
    "name": "ipython",
    "version": 3
   },
   "file_extension": ".py",
   "mimetype": "text/x-python",
   "name": "python",
   "nbconvert_exporter": "python",
   "pygments_lexer": "ipython3",
   "version": "3.6.3"
  }
 },
 "nbformat": 4,
 "nbformat_minor": 2
}
